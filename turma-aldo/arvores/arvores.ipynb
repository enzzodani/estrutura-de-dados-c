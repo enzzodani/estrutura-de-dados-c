{
 "cells": [
  {
   "cell_type": "markdown",
   "id": "421682e7-268b-4ad3-b39c-24f8221984e0",
   "metadata": {},
   "source": [
    "# Arvores em Python\n",
    "\n",
    "Neste Notebook trabalharemos o conceito de arvore a partir da biblioteca [bigtree](https://bigtree.readthedocs.io/en/stable/).\n",
    "\n",
    "Referencia: [Python Tree Implementation: A Guide](https://builtin.com/articles/tree-python)"
   ]
  },
  {
   "cell_type": "code",
   "execution_count": null,
   "id": "e550dd35-f8a0-4914-92a6-ca0912aa8f45",
   "metadata": {},
   "outputs": [
    {
     "ename": "",
     "evalue": "",
     "output_type": "error",
     "traceback": [
      "\u001b[1;31mRunning cells with 'Python 3.12.7' requires the ipykernel package.\n",
      "\u001b[1;31mRun the following command to install 'ipykernel' into the Python environment. \n",
      "\u001b[1;31mCommand: '/usr/bin/python3 -m pip install ipykernel -U --user --force-reinstall'"
     ]
    }
   ],
   "source": [
    "from bigtree import Node"
   ]
  },
  {
   "cell_type": "code",
   "execution_count": 2,
   "id": "cfdb492f-c881-4077-9d4a-93e67925408f",
   "metadata": {},
   "outputs": [],
   "source": [
    "root = Node('a', age=90)\n",
    "b    = Node('b', age=65, parent=root)\n",
    "c    = Node('c', age=65, parent=root)"
   ]
  },
  {
   "cell_type": "code",
   "execution_count": 3,
   "id": "97081bab-110f-4b59-a5c0-244533a213ee",
   "metadata": {},
   "outputs": [
    {
     "data": {
      "text/plain": [
       "(Node(/a/b, age=65), Node(/a/c, age=65))"
      ]
     },
     "execution_count": 3,
     "metadata": {},
     "output_type": "execute_result"
    }
   ],
   "source": [
    "# Mostrar filhos\n",
    "root.children"
   ]
  },
  {
   "cell_type": "code",
   "execution_count": 4,
   "id": "4813b509-bce1-4e38-975a-54506be4b67e",
   "metadata": {},
   "outputs": [
    {
     "data": {
      "text/plain": [
       "(1, 2)"
      ]
     },
     "execution_count": 4,
     "metadata": {},
     "output_type": "execute_result"
    }
   ],
   "source": [
    "# Profundidade dos nos\n",
    "root.depth, b.depth"
   ]
  },
  {
   "cell_type": "code",
   "execution_count": 5,
   "id": "1d9ff56a-9305-4d75-bee0-8a262a997607",
   "metadata": {},
   "outputs": [
    {
     "data": {
      "text/plain": [
       "2"
      ]
     },
     "execution_count": 5,
     "metadata": {},
     "output_type": "execute_result"
    }
   ],
   "source": [
    "# Profundidade maxima\n",
    "root.max_depth"
   ]
  },
  {
   "cell_type": "code",
   "execution_count": 6,
   "id": "8590ea92-527e-4f7b-a622-d977679ddba9",
   "metadata": {},
   "outputs": [
    {
     "name": "stdout",
     "output_type": "stream",
     "text": [
      "a [age=90]\n",
      "├── b [age=65]\n",
      "└── c [age=65]\n"
     ]
    }
   ],
   "source": [
    "# Mostrar atributos dos nos\n",
    "root.show(attr_list=['age'])"
   ]
  },
  {
   "cell_type": "code",
   "execution_count": 7,
   "id": "6899d275-0aea-4485-affc-c12cc5516f35",
   "metadata": {},
   "outputs": [
    {
     "name": "stdout",
     "output_type": "stream",
     "text": [
      "     ┌─ b\n",
      "─ a ─┤\n",
      "     └─ c\n"
     ]
    }
   ],
   "source": [
    "# Mostrar arvore horizontalmente\n",
    "root.hshow()"
   ]
  },
  {
   "cell_type": "code",
   "execution_count": 8,
   "id": "72117050-9cdc-47df-8e59-ce0450b4190b",
   "metadata": {},
   "outputs": [
    {
     "data": {
      "text/plain": [
       "Node(/a/c, age=65)"
      ]
     },
     "execution_count": 8,
     "metadata": {},
     "output_type": "execute_result"
    }
   ],
   "source": [
    "b.right_sibling"
   ]
  },
  {
   "cell_type": "code",
   "execution_count": 9,
   "id": "573eb3ff-5281-4cb2-be3d-6dba79a6be6a",
   "metadata": {},
   "outputs": [
    {
     "data": {
      "text/plain": [
       "Node(/a/b, age=65)"
      ]
     },
     "execution_count": 9,
     "metadata": {},
     "output_type": "execute_result"
    }
   ],
   "source": [
    "c.left_sibling"
   ]
  },
  {
   "cell_type": "markdown",
   "id": "6d3f5e0b-1594-4d3d-aec9-2a3a4c00e217",
   "metadata": {},
   "source": [
    "## Construir arvores a partir de listas"
   ]
  },
  {
   "cell_type": "code",
   "execution_count": 10,
   "id": "bd926ba0-1800-42eb-9091-830a27d8ef76",
   "metadata": {},
   "outputs": [],
   "source": [
    "from bigtree import list_to_tree\n",
    "\n",
    "path_list = ['a/b/d', 'a/b/e', 'a/c']\n",
    "\n",
    "root      = list_to_tree(path_list)"
   ]
  },
  {
   "cell_type": "code",
   "execution_count": 11,
   "id": "fb70cc46-1486-42e4-a173-b54a243bf25a",
   "metadata": {},
   "outputs": [
    {
     "name": "stdout",
     "output_type": "stream",
     "text": [
      "a\n",
      "├── b\n",
      "│   ├── d\n",
      "│   └── e\n",
      "└── c\n"
     ]
    }
   ],
   "source": [
    "root.show()"
   ]
  },
  {
   "cell_type": "code",
   "execution_count": 12,
   "id": "6cb77f92-2eca-4ee3-ad44-4e77cd2be27e",
   "metadata": {},
   "outputs": [
    {
     "name": "stdout",
     "output_type": "stream",
     "text": [
      "           ┌─ d\n",
      "     ┌─ b ─┤\n",
      "─ a ─┤     └─ e\n",
      "     └─ c\n"
     ]
    }
   ],
   "source": [
    "root.hshow()"
   ]
  },
  {
   "cell_type": "markdown",
   "id": "b9682f2f-318e-42f4-9b0d-a84430aac9c6",
   "metadata": {},
   "source": [
    "## Arvores com atributos"
   ]
  },
  {
   "cell_type": "code",
   "execution_count": 13,
   "id": "406fb6aa-0244-4338-a764-97db586d4446",
   "metadata": {},
   "outputs": [],
   "source": [
    "from bigtree import dict_to_tree"
   ]
  },
  {
   "cell_type": "code",
   "execution_count": 14,
   "id": "5227e157-1686-44bc-b4d0-d3f2584904a1",
   "metadata": {},
   "outputs": [],
   "source": [
    "path_dict = {\n",
    "    'a'    : {'age': 90},\n",
    "    'a/b'  : {'age': 65},\n",
    "    'a/c'  : {'age': 60},\n",
    "    'a/b/d': {'age': 40},\n",
    "    'a/b/e': {'age': 35},\n",
    "}\n",
    "\n",
    "root = dict_to_tree(path_dict)"
   ]
  },
  {
   "cell_type": "code",
   "execution_count": 15,
   "id": "110c4405-ce17-4191-a6f9-527dc448f3d6",
   "metadata": {},
   "outputs": [
    {
     "name": "stdout",
     "output_type": "stream",
     "text": [
      "a [age=90]\n",
      "├── b [age=65]\n",
      "│   ├── d [age=40]\n",
      "│   └── e [age=35]\n",
      "└── c [age=60]\n"
     ]
    }
   ],
   "source": [
    "root.show(attr_list=['age'])"
   ]
  },
  {
   "cell_type": "markdown",
   "id": "ac917ab5-270e-48d9-872c-d5c6b5c4bc9d",
   "metadata": {},
   "source": [
    "## Arvores a partir de dataframes"
   ]
  },
  {
   "cell_type": "code",
   "execution_count": 17,
   "id": "8412c91d-d563-4ec5-933e-612581ef27eb",
   "metadata": {},
   "outputs": [],
   "source": [
    "import pandas as pd\n",
    "from bigtree import dataframe_to_tree"
   ]
  },
  {
   "cell_type": "code",
   "execution_count": 19,
   "id": "70c97559-214b-45c9-94e4-fe24e838fada",
   "metadata": {},
   "outputs": [],
   "source": [
    "path_data = pd.DataFrame(\n",
    "    [\n",
    "        ['a'    , 90],\n",
    "        ['a/b'  , 65],\n",
    "        ['a/c'  , 60],\n",
    "        ['a/b/d', 40],\n",
    "        ['a/b/e', 35],\n",
    "    ],\n",
    "    columns = ['PATH', 'age']\n",
    ")\n",
    "\n",
    "root = dataframe_to_tree(path_data)"
   ]
  },
  {
   "cell_type": "code",
   "execution_count": 20,
   "id": "af39053d-b914-4ffe-8641-9aafb275d483",
   "metadata": {},
   "outputs": [
    {
     "name": "stdout",
     "output_type": "stream",
     "text": [
      "a [age=90]\n",
      "├── b [age=65]\n",
      "│   ├── d [age=40]\n",
      "│   └── e [age=35]\n",
      "└── c [age=60]\n"
     ]
    }
   ],
   "source": [
    "root.show(attr_list=['age'])"
   ]
  },
  {
   "cell_type": "markdown",
   "id": "7f435b91-6aa3-4cbf-84d9-dcb4b34c9215",
   "metadata": {},
   "source": [
    "## Percorrendo Arvores\n",
    "Implemente os seguintes algoritmos e estude os resultados:\n",
    "\n",
    "- Depth-first search\n",
    "- Breadth-first search"
   ]
  },
  {
   "cell_type": "code",
   "execution_count": null,
   "id": "6beba88e-2af9-44e5-b0b9-f6b3f675fb45",
   "metadata": {},
   "outputs": [],
   "source": []
  }
 ],
 "metadata": {
  "kernelspec": {
   "display_name": "Python 3",
   "language": "python",
   "name": "python3"
  },
  "language_info": {
   "codemirror_mode": {
    "name": "ipython",
    "version": 3
   },
   "file_extension": ".py",
   "mimetype": "text/x-python",
   "name": "python",
   "nbconvert_exporter": "python",
   "pygments_lexer": "ipython3",
   "version": "3.12.7"
  }
 },
 "nbformat": 4,
 "nbformat_minor": 5
}
